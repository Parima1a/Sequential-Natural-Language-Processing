{
 "cells": [
  {
   "cell_type": "markdown",
   "id": "98f484e9",
   "metadata": {},
   "source": [
    "# PART - A"
   ]
  },
  {
   "cell_type": "code",
   "execution_count": 1,
   "id": "bb2fe9e9",
   "metadata": {},
   "outputs": [],
   "source": [
    "# Q1- Import and analyse the data set"
   ]
  },
  {
   "cell_type": "code",
   "execution_count": 2,
   "id": "83ee246e",
   "metadata": {},
   "outputs": [],
   "source": [
    "import numpy as np\n",
    "import pandas as pd\n",
    "import matplotlib.pyplot as plt\n",
    "import seaborn as sns\n",
    "import warnings\n",
    "warnings.filterwarnings(\"ignore\")\n",
    "import tensorflow as tf\n",
    "import keras\n",
    "from tensorflow import keras\n",
    "from keras.datasets import imdb\n",
    "from keras.preprocessing import sequence\n",
    "from keras import Model, Sequential\n",
    "from tensorflow.keras.preprocessing.text import Tokenizer\n",
    "from keras.layers import Dense, Embedding, LSTM, Dropout, SpatialDropout1D, Dropout, Flatten, Bidirectional, GlobalMaxPool1D\n",
    "from tensorflow.keras.preprocessing.sequence import pad_sequences\n",
    "from tensorflow.keras.callbacks import ModelCheckpoint, ReduceLROnPlateau\n",
    "from sklearn.model_selection import train_test_split\n",
    "from sklearn.metrics import classification_report"
   ]
  },
  {
   "cell_type": "code",
   "execution_count": 3,
   "id": "036e2e13",
   "metadata": {},
   "outputs": [],
   "source": [
    "import json\n",
    "import nltk\n",
    "import re\n",
    "from tensorflow.keras.initializers import Constant"
   ]
  },
  {
   "cell_type": "code",
   "execution_count": 4,
   "id": "954dd9b4",
   "metadata": {},
   "outputs": [],
   "source": [
    "vocabulary_size = 10000\n",
    "(X_train, y_train), (X_test, y_test) = imdb.load_data(num_words = vocabulary_size)"
   ]
  },
  {
   "cell_type": "code",
   "execution_count": 5,
   "id": "342c483d",
   "metadata": {},
   "outputs": [
    {
     "data": {
      "text/plain": [
       "(25000,)"
      ]
     },
     "execution_count": 5,
     "metadata": {},
     "output_type": "execute_result"
    }
   ],
   "source": [
    "X_train.shape"
   ]
  },
  {
   "cell_type": "code",
   "execution_count": 6,
   "id": "0a7222f6",
   "metadata": {},
   "outputs": [
    {
     "data": {
      "text/plain": [
       "(25000,)"
      ]
     },
     "execution_count": 6,
     "metadata": {},
     "output_type": "execute_result"
    }
   ],
   "source": [
    "X_test.shape"
   ]
  },
  {
   "cell_type": "code",
   "execution_count": 7,
   "id": "148c3e85",
   "metadata": {},
   "outputs": [
    {
     "data": {
      "text/plain": [
       "(25000,)"
      ]
     },
     "execution_count": 7,
     "metadata": {},
     "output_type": "execute_result"
    }
   ],
   "source": [
    "y_train.shape"
   ]
  },
  {
   "cell_type": "code",
   "execution_count": 8,
   "id": "e37ee1ca",
   "metadata": {},
   "outputs": [
    {
     "data": {
      "text/plain": [
       "array([0, 1, 1, ..., 0, 0, 0], dtype=int64)"
      ]
     },
     "execution_count": 8,
     "metadata": {},
     "output_type": "execute_result"
    }
   ],
   "source": [
    "y_test"
   ]
  },
  {
   "cell_type": "code",
   "execution_count": 9,
   "id": "a3fbee83",
   "metadata": {},
   "outputs": [
    {
     "data": {
      "text/plain": [
       "array([0, 1], dtype=int64)"
      ]
     },
     "execution_count": 9,
     "metadata": {},
     "output_type": "execute_result"
    }
   ],
   "source": [
    "np.unique(y_train)"
   ]
  },
  {
   "cell_type": "code",
   "execution_count": 10,
   "id": "0ac8455e",
   "metadata": {},
   "outputs": [],
   "source": [
    "# Q2 Sequence adding on data"
   ]
  },
  {
   "cell_type": "code",
   "execution_count": 11,
   "id": "bf449ef2",
   "metadata": {},
   "outputs": [],
   "source": [
    "max_words = 500"
   ]
  },
  {
   "cell_type": "code",
   "execution_count": 12,
   "id": "9e2e6932",
   "metadata": {},
   "outputs": [],
   "source": [
    "X_train = pad_sequences(X_train, maxlen=max_words)\n",
    "X_test = pad_sequences(X_test, maxlen=max_words)"
   ]
  },
  {
   "cell_type": "code",
   "execution_count": 13,
   "id": "3ee5a378",
   "metadata": {},
   "outputs": [],
   "source": [
    "# Q3"
   ]
  },
  {
   "cell_type": "code",
   "execution_count": 14,
   "id": "e822f16c",
   "metadata": {},
   "outputs": [],
   "source": [
    "# i) Features and Labels"
   ]
  },
  {
   "cell_type": "code",
   "execution_count": 15,
   "id": "db549d95",
   "metadata": {},
   "outputs": [],
   "source": [
    "features = X_train"
   ]
  },
  {
   "cell_type": "code",
   "execution_count": 16,
   "id": "20e51946",
   "metadata": {},
   "outputs": [
    {
     "data": {
      "text/plain": [
       "array([[   0,    0,    0, ...,   19,  178,   32],\n",
       "       [   0,    0,    0, ...,   16,  145,   95],\n",
       "       [   0,    0,    0, ...,    7,  129,  113],\n",
       "       ...,\n",
       "       [   0,    0,    0, ...,    4, 3586,    2],\n",
       "       [   0,    0,    0, ...,   12,    9,   23],\n",
       "       [   0,    0,    0, ...,  204,  131,    9]])"
      ]
     },
     "execution_count": 16,
     "metadata": {},
     "output_type": "execute_result"
    }
   ],
   "source": [
    "features"
   ]
  },
  {
   "cell_type": "code",
   "execution_count": 17,
   "id": "6eb1de34",
   "metadata": {},
   "outputs": [],
   "source": [
    "labels = y_train"
   ]
  },
  {
   "cell_type": "code",
   "execution_count": 18,
   "id": "b7e263c3",
   "metadata": {},
   "outputs": [
    {
     "data": {
      "text/plain": [
       "array([1, 0, 0, ..., 0, 1, 0], dtype=int64)"
      ]
     },
     "execution_count": 18,
     "metadata": {},
     "output_type": "execute_result"
    }
   ],
   "source": [
    "labels"
   ]
  },
  {
   "cell_type": "code",
   "execution_count": 19,
   "id": "084a7274",
   "metadata": {},
   "outputs": [
    {
     "data": {
      "text/plain": [
       "(25000, 500)"
      ]
     },
     "execution_count": 19,
     "metadata": {},
     "output_type": "execute_result"
    }
   ],
   "source": [
    "features.shape"
   ]
  },
  {
   "cell_type": "code",
   "execution_count": 20,
   "id": "aa9246c9",
   "metadata": {},
   "outputs": [
    {
     "data": {
      "text/plain": [
       "(25000, 500)"
      ]
     },
     "execution_count": 20,
     "metadata": {},
     "output_type": "execute_result"
    }
   ],
   "source": [
    "X_train.shape"
   ]
  },
  {
   "cell_type": "code",
   "execution_count": 21,
   "id": "5e8fd986",
   "metadata": {},
   "outputs": [
    {
     "data": {
      "text/plain": [
       "(25000,)"
      ]
     },
     "execution_count": 21,
     "metadata": {},
     "output_type": "execute_result"
    }
   ],
   "source": [
    "labels.shape"
   ]
  },
  {
   "cell_type": "code",
   "execution_count": 22,
   "id": "b8c03bf0",
   "metadata": {},
   "outputs": [],
   "source": [
    "# ii) Printing a feature and label"
   ]
  },
  {
   "cell_type": "code",
   "execution_count": 23,
   "id": "99f1ca86",
   "metadata": {},
   "outputs": [
    {
     "data": {
      "text/plain": [
       "array([   0,    0,    0,    0,    0,    0,    0,    0,    0,    0,    0,\n",
       "          0,    0,    0,    0,    0,    0,    0,    0,    0,    0,    0,\n",
       "          0,    0,    0,    0,    0,    0,    0,    0,    0,    0,    0,\n",
       "          0,    0,    0,    0,    0,    0,    0,    0,    0,    0,    0,\n",
       "          0,    0,    0,    0,    0,    0,    0,    0,    0,    0,    0,\n",
       "          0,    0,    0,    0,    0,    0,    0,    0,    0,    0,    0,\n",
       "          0,    0,    0,    0,    0,    0,    0,    0,    0,    0,    0,\n",
       "          0,    0,    0,    0,    0,    0,    0,    0,    0,    0,    0,\n",
       "          0,    0,    0,    0,    0,    0,    0,    0,    0,    0,    0,\n",
       "          0,    0,    0,    0,    0,    0,    0,    0,    0,    0,    0,\n",
       "          0,    0,    0,    0,    0,    0,    0,    0,    0,    0,    0,\n",
       "          0,    0,    0,    0,    0,    0,    0,    0,    0,    0,    0,\n",
       "          0,    0,    0,    0,    0,    0,    0,    0,    0,    0,    0,\n",
       "          0,    0,    0,    0,    0,    0,    0,    0,    0,    0,    0,\n",
       "          0,    0,    0,    0,    0,    0,    0,    0,    0,    0,    0,\n",
       "          0,    0,    0,    0,    0,    0,    0,    0,    0,    0,    0,\n",
       "          0,    0,    0,    0,    0,    0,    0,    0,    0,    0,    0,\n",
       "          0,    0,    0,    0,    0,    0,    0,    0,    0,    0,    0,\n",
       "          0,    0,    0,    0,    0,    0,    0,    0,    0,    0,    0,\n",
       "          0,    0,    0,    0,    0,    0,    0,    0,    0,    0,    0,\n",
       "          0,    0,    0,    0,    0,    0,    0,    0,    0,    0,    0,\n",
       "          0,    0,    0,    0,    0,    0,    0,    0,    0,    0,    0,\n",
       "          0,    0,    0,    0,    0,    0,    0,    0,    0,    0,    0,\n",
       "          0,    0,    0,    0,    0,    0,    0,    0,    0,    0,    0,\n",
       "          0,    0,    0,    0,    0,    0,    0,    0,    0,    0,    0,\n",
       "          0,    0,    0,    0,    0,    0,    0,    0,    0,    0,    0,\n",
       "          0,    0,    0,    0,    0,    0,    0,    0,    0,    0,    0,\n",
       "          0,    0,    0,    0,    0,    0,    0,    0,    0,    0,    0,\n",
       "          0,    0,    0,    0,    0,    0,    0,    0,    0,    0,    0,\n",
       "          0,    0,    0,    0,    0,    0,    0,    0,    0,    0,    0,\n",
       "          0,    0,    0,    0,    0,    0,    0,    0,    0,    0,    0,\n",
       "          0,    0,    0,    0,    0,    0,    0,    0,    0,    0,    0,\n",
       "          0,    0,    0,    0,    0,    0,    0,    0,    0,    0,    0,\n",
       "          0,    0,    0,    0,    0,    0,    0,    0,    0,    0,    0,\n",
       "          0,    0,    0,    0,    0,    0,    0,    0,    0,    0,    0,\n",
       "          0,    0,    0,    0,    0,    0,    0,    0,    1,   13,  219,\n",
       "         14,   33,    4,    2,   22, 1413,   12,   16,  373,  175, 2711,\n",
       "       1115, 1026,  430,  939,   16,   23, 2444,   25,   43,  697,   89,\n",
       "         12,   16,  170,    8,  130,  262,   19,   32,    4,  665,    7,\n",
       "          4,    2,  322,    5,    4, 1520,    7,    4,   86,  250,   10,\n",
       "         10,    4,  249,  173,   16,    4, 3891,    6,   19,    4,  167,\n",
       "        564,    5,  564, 1325,   36,  805,    8,  216,  638,   17,    2,\n",
       "         21,   25,  100,  376,  507,    4, 2110,   15,   79,  125,   23,\n",
       "        567,   13, 2134,  233,   36, 4852,    2,    5,   81, 1672,   10,\n",
       "         10,   92,  437,  129,   58,   13,   69,    8,  401,   61, 1432,\n",
       "         39, 1286,   46,    7,   12])"
      ]
     },
     "execution_count": 23,
     "metadata": {},
     "output_type": "execute_result"
    }
   ],
   "source": [
    "X_train[60]"
   ]
  },
  {
   "cell_type": "code",
   "execution_count": 24,
   "id": "13ebf07d",
   "metadata": {},
   "outputs": [
    {
     "data": {
      "text/plain": [
       "0"
      ]
     },
     "execution_count": 24,
     "metadata": {},
     "output_type": "execute_result"
    }
   ],
   "source": [
    "y_train[60]"
   ]
  },
  {
   "cell_type": "code",
   "execution_count": 25,
   "id": "be0e7453",
   "metadata": {},
   "outputs": [],
   "source": [
    "# Q4 Decoding feature to original sentence"
   ]
  },
  {
   "cell_type": "code",
   "execution_count": 26,
   "id": "e7fa265c",
   "metadata": {},
   "outputs": [],
   "source": [
    "def decode_to_sentence(feature_value, word_index):\n",
    "    word_index_rev = dict([(value, key) for (key, value) in word_index.items()])\n",
    "    decoded_sentence = ' '.join([word_index_rev.get(i - 3, '?') for i in feature_value])\n",
    "    return decoded_sentence"
   ]
  },
  {
   "cell_type": "code",
   "execution_count": 27,
   "id": "0f36ae8a",
   "metadata": {},
   "outputs": [
    {
     "name": "stdout",
     "output_type": "stream",
     "text": [
      "Original Sentence:\n",
      "? ? ? ? ? ? ? ? ? ? ? ? ? ? ? ? ? ? ? ? ? ? ? ? ? ? ? ? ? ? ? ? ? ? ? ? ? ? ? ? ? ? ? ? ? ? ? ? ? ? ? ? ? ? ? ? ? ? ? ? ? ? ? ? ? ? ? ? ? ? ? ? ? ? ? ? ? ? ? ? ? ? ? ? ? ? ? ? ? ? ? ? ? ? ? ? ? ? ? ? ? ? ? ? ? ? ? ? ? ? ? ? ? ? ? ? ? ? ? ? ? ? ? ? ? ? ? ? ? ? ? ? ? ? ? ? ? ? ? ? ? ? ? ? ? ? ? ? ? ? ? ? ? ? ? ? ? ? ? ? ? ? ? ? ? ? ? ? ? ? ? ? ? ? ? ? ? ? ? ? ? ? ? ? ? ? ? ? ? ? ? ? ? ? ? ? ? ? ? ? ? ? ? ? ? ? ? ? ? ? ? ? ? ? ? ? ? ? ? ? ? ? ? ? ? ? ? ? ? ? ? ? ? ? ? ? ? ? ? ? ? ? ? ? ? ? ? ? ? ? ? ? ? ? ? ? ? ? ? ? ? ? ? ? ? ? ? ? ? ? ? ? ? ? ? ? ? ? ? ? ? ? ? this film was just brilliant casting location scenery story direction everyone's really suited the part they played and you could just imagine being there robert ? is an amazing actor and now the same being director ? father came from the same scottish island as myself so i loved the fact there was a real connection with this film the witty remarks throughout the film were great it was just brilliant so much that i bought the film as soon as it was released for ? and would recommend it to everyone to watch and the fly fishing was amazing really cried at the end it was so sad and you know what they say if you cry at a film it must have been good and this definitely was also ? to the two little boy's that played the ? of norman and paul they were just brilliant children are often left out of the ? list i think because the stars that play them all grown up are such a big profile for the whole film but these children are amazing and should be praised for what they have done don't you think the whole story was so lovely because it was true and was someone's life after all that was shared with us all\n"
     ]
    }
   ],
   "source": [
    "word_index = imdb.get_word_index()\n",
    "feature_value = X_train[0] \n",
    "original_sentence = decode_to_sentence(feature_value, word_index)\n",
    "print(\"Original Sentence:\")\n",
    "print(original_sentence)"
   ]
  },
  {
   "cell_type": "code",
   "execution_count": 28,
   "id": "e5ece19a",
   "metadata": {},
   "outputs": [],
   "source": [
    "# Checking another feature value"
   ]
  },
  {
   "cell_type": "code",
   "execution_count": 29,
   "id": "4605d8f6",
   "metadata": {},
   "outputs": [
    {
     "data": {
      "text/plain": [
       "\"? ? ? ? ? ? ? ? ? ? ? ? ? ? ? ? ? ? ? ? ? ? ? ? ? ? ? ? ? ? ? ? ? ? ? ? ? ? ? ? ? ? ? ? ? ? ? ? ? ? ? ? ? ? ? ? ? ? ? ? ? ? ? ? ? ? ? ? ? ? ? ? ? ? ? ? ? ? ? ? ? ? ? ? ? ? ? ? ? ? ? ? ? ? ? ? ? ? ? ? ? ? ? ? ? ? ? ? ? ? ? ? ? ? ? ? ? ? ? ? ? ? ? ? ? ? ? ? ? ? ? ? ? ? ? ? ? ? ? ? ? ? ? ? ? ? ? ? ? ? ? ? ? ? ? ? ? ? ? ? ? ? ? ? ? ? ? ? ? ? ? ? ? ? ? ? ? ? ? ? ? ? ? ? ? ? ? ? ? ? ? ? ? ? ? ? ? ? ? ? ? ? ? ? ? ? ? ? ? ? ? ? ? ? ? ? ? ? ? ? ? ? ? ? ? ? ? ? ? ? ? ? ? ? ? ? ? ? ? ? ? ? ? ? ? ? ? ? ? ? ? ? ? ? ? ? ? ? ? ? ? ? ? ? ? ? ? ? ? ? ? ? ? ? ? ? ? ? ? ? ? ? ? ? ? ? ? ? ? ? ? ? ? ? ? ? ? ? ? ? ? ? ? ? ? ? ? ? ? ? ? ? ? ? ? ? ? ? ? ? ? ? ? ? ? ? ? ? ? ? ? ? ? ? ? ? ? ? ? ? ? ? ? ? ? ? ? ? ? ? ? ? ? ? ? ? ? ? ? ? ? ? ? ? ? ? ? ? ? ? ? ? ? ? ? ? ? ? ? ? ? ? ? ? ? ? ? ? ? ? ? ? ? ? i saw this at the ? film festival it was awful every clichéd violent rich boy fantasy was on display you just knew how it was going to end especially with all the shots of the ? wife and the rape of the first girl br br the worst part was the q a with the director writer and writer producer they tried to come across as ? but you could tell they're the types that get off on violence i bet anything they frequent ? and do drugs br br don't waste your time i had to keep my boyfriend from walking out of it\""
      ]
     },
     "execution_count": 29,
     "metadata": {},
     "output_type": "execute_result"
    }
   ],
   "source": [
    "feature_value = X_train[60] \n",
    "original_sentence = decode_to_sentence(feature_value, word_index)\n",
    "original_sentence"
   ]
  },
  {
   "cell_type": "code",
   "execution_count": 30,
   "id": "b0642260",
   "metadata": {},
   "outputs": [],
   "source": [
    "# Q5 Design, Train, Tuning and testing"
   ]
  },
  {
   "cell_type": "code",
   "execution_count": 31,
   "id": "6af70448",
   "metadata": {},
   "outputs": [],
   "source": [
    "embedding_size = 32\n",
    "model = Sequential()\n",
    "model.add(Embedding(vocabulary_size, embedding_size, input_length=max_words))\n",
    "lstm_units = 100\n",
    "model.add(LSTM(lstm_units, dropout=0.2, recurrent_dropout=0.2))\n",
    "model.add(Dense(1, activation='sigmoid'))\n",
    "model.compile(loss='binary_crossentropy', optimizer='adam', metrics=['accuracy'])"
   ]
  },
  {
   "cell_type": "code",
   "execution_count": 32,
   "id": "26957ede",
   "metadata": {},
   "outputs": [],
   "source": [
    "checkpoint = ModelCheckpoint(\"imdb_model.h5\",monitor='val_accuracy',\n",
    "                            save_weights_only=True, model='max',verbose=1)\n",
    "reduce_lr = ReduceLROnPlateau(monitor='val_loss',factor=0.1,patience=2,min_lr=0.00001,model='auto')\n",
    "\n",
    "callbacks = [checkpoint,reduce_lr]"
   ]
  },
  {
   "cell_type": "code",
   "execution_count": 33,
   "id": "4ddbadef",
   "metadata": {},
   "outputs": [
    {
     "name": "stdout",
     "output_type": "stream",
     "text": [
      "Model: \"sequential\"\n",
      "_________________________________________________________________\n",
      " Layer (type)                Output Shape              Param #   \n",
      "=================================================================\n",
      " embedding (Embedding)       (None, 500, 32)           320000    \n",
      "                                                                 \n",
      " lstm (LSTM)                 (None, 100)               53200     \n",
      "                                                                 \n",
      " dense (Dense)               (None, 1)                 101       \n",
      "                                                                 \n",
      "=================================================================\n",
      "Total params: 373,301\n",
      "Trainable params: 373,301\n",
      "Non-trainable params: 0\n",
      "_________________________________________________________________\n",
      "None\n"
     ]
    }
   ],
   "source": [
    "print(model.summary())"
   ]
  },
  {
   "cell_type": "code",
   "execution_count": 34,
   "id": "4bb6dc1d",
   "metadata": {},
   "outputs": [
    {
     "name": "stdout",
     "output_type": "stream",
     "text": [
      "Epoch 1/3\n",
      "391/391 [==============================] - ETA: 0s - loss: 0.4228 - accuracy: 0.7996\n",
      "Epoch 1: saving model to imdb_model.h5\n",
      "391/391 [==============================] - 417s 1s/step - loss: 0.4228 - accuracy: 0.7996 - val_loss: 0.3405 - val_accuracy: 0.8538 - lr: 0.0010\n",
      "Epoch 2/3\n",
      "391/391 [==============================] - ETA: 0s - loss: 0.2583 - accuracy: 0.9004\n",
      "Epoch 2: saving model to imdb_model.h5\n",
      "391/391 [==============================] - 419s 1s/step - loss: 0.2583 - accuracy: 0.9004 - val_loss: 0.3295 - val_accuracy: 0.8584 - lr: 0.0010\n",
      "Epoch 3/3\n",
      "391/391 [==============================] - ETA: 0s - loss: 0.2001 - accuracy: 0.9256\n",
      "Epoch 3: saving model to imdb_model.h5\n",
      "391/391 [==============================] - 424s 1s/step - loss: 0.2001 - accuracy: 0.9256 - val_loss: 0.3216 - val_accuracy: 0.8799 - lr: 0.0010\n"
     ]
    },
    {
     "data": {
      "text/plain": [
       "<keras.callbacks.History at 0x22ea4be29a0>"
      ]
     },
     "execution_count": 34,
     "metadata": {},
     "output_type": "execute_result"
    }
   ],
   "source": [
    "batch_size = 64\n",
    "epochs = 3\n",
    "model.fit(X_train, y_train, validation_data=(X_test, y_test), batch_size=batch_size, epochs=epochs, callbacks = callbacks)"
   ]
  },
  {
   "cell_type": "code",
   "execution_count": 35,
   "id": "3e4515cb",
   "metadata": {},
   "outputs": [
    {
     "name": "stdout",
     "output_type": "stream",
     "text": [
      "782/782 [==============================] - 67s 85ms/step - loss: 0.3216 - accuracy: 0.8799\n"
     ]
    },
    {
     "data": {
      "text/plain": [
       "[0.32157260179519653, 0.8798800110816956]"
      ]
     },
     "execution_count": 35,
     "metadata": {},
     "output_type": "execute_result"
    }
   ],
   "source": [
    "model.evaluate(X_test, y_test)"
   ]
  },
  {
   "cell_type": "code",
   "execution_count": 36,
   "id": "3e9180e1",
   "metadata": {},
   "outputs": [
    {
     "name": "stdout",
     "output_type": "stream",
     "text": [
      "782/782 [==============================] - 65s 83ms/step\n"
     ]
    }
   ],
   "source": [
    "ypred = model.predict(X_test)"
   ]
  },
  {
   "cell_type": "code",
   "execution_count": 37,
   "id": "6b1da59b",
   "metadata": {},
   "outputs": [
    {
     "data": {
      "text/plain": [
       "array([[0.17406905],\n",
       "       [0.99696   ],\n",
       "       [0.9779403 ],\n",
       "       ...,\n",
       "       [0.05887767],\n",
       "       [0.23442715],\n",
       "       [0.9150546 ]], dtype=float32)"
      ]
     },
     "execution_count": 37,
     "metadata": {},
     "output_type": "execute_result"
    }
   ],
   "source": [
    "ypred"
   ]
  },
  {
   "cell_type": "code",
   "execution_count": 38,
   "id": "9d44fbe0",
   "metadata": {},
   "outputs": [],
   "source": [
    "# Q6 - Use the designed model to print the prediction on any one sample"
   ]
  },
  {
   "cell_type": "code",
   "execution_count": 39,
   "id": "25756a82",
   "metadata": {},
   "outputs": [
    {
     "data": {
      "text/plain": [
       "\"? ? ? ? ? ? ? ? ? ? ? ? ? ? ? ? ? ? ? ? ? ? ? ? ? ? ? ? ? ? ? ? ? ? ? ? ? ? ? ? ? ? ? ? ? ? ? ? ? ? ? ? ? ? ? ? ? ? ? ? ? ? ? ? ? ? ? ? ? ? ? ? ? ? ? ? ? ? ? ? ? ? ? ? ? ? ? ? ? ? ? ? ? ? ? ? ? ? ? ? ? ? ? ? ? ? ? ? ? ? ? ? ? ? ? ? ? ? ? ? ? ? ? ? ? ? ? ? ? ? ? ? ? ? ? ? ? ? ? ? ? ? ? ? ? ? ? ? ? ? ? ? ? ? ? ? ? ? ? ? ? ? ? ? ? ? ? ? ? ? ? ? ? ? ? ? ? ? ? ? ? ? ? ? ? ? ? ? ? ? ? ? ? ? ? ? ? ? ? ? ? ? ? ? ? ? ? ? ? ? ? ? ? ? ? ? ? ? ? ? ? ? ? ? ? ? ? ? ? ? ? ? ? ? ? ? ? ? ? ? ? ? ? ? ? ? ? ? ? ? ? ? ? ? ? ? ? ? ? ? ? ? ? ? ? ? ? ? ? ? ? this film was one that i have waited to see for some time i was glad to find it has been everything anticipated the writing of this film has been so finely crafted and ? far beyond what is seen by the audience i found it amusing that so many people watching will not read between some very important lines but indeed if not the movie will make sense in a different way and is very brilliant the film has many stories and characters woven together around this one character ? a man whom has rose from the streets amidst many ? and become a very powerful criminal after spending some time in prison ? finds a ? in the justice system and through a disturbing turn of events is released only to find everything is not at all what it seems ? finds himself going up against the higher realm of society and political ? in order to make clear how important a man's word is and stands for a war begins as the street is in arms against ? of wealth and corrupt power br br a build up to explosive and powerful non stop twists and turns this film will leave you ? i found the cast of this movie to be outstanding and is not a movie to be ignored excellent go rent it today\""
      ]
     },
     "execution_count": 39,
     "metadata": {},
     "output_type": "execute_result"
    }
   ],
   "source": [
    "decode_to_sentence(X_test[20], word_index)"
   ]
  },
  {
   "cell_type": "code",
   "execution_count": 40,
   "id": "84047976",
   "metadata": {},
   "outputs": [
    {
     "name": "stdout",
     "output_type": "stream",
     "text": [
      "Prediction: 0.9993739128112793\n"
     ]
    }
   ],
   "source": [
    "print(f'Prediction: {ypred[20][0]}')"
   ]
  },
  {
   "cell_type": "code",
   "execution_count": 41,
   "id": "146175fa",
   "metadata": {},
   "outputs": [
    {
     "name": "stdout",
     "output_type": "stream",
     "text": [
      "Prediction: [0.9993739]\n"
     ]
    }
   ],
   "source": [
    "print(f'Prediction: {ypred[20]}')"
   ]
  },
  {
   "cell_type": "markdown",
   "id": "7af1d549",
   "metadata": {},
   "source": [
    "# PART - B"
   ]
  },
  {
   "cell_type": "code",
   "execution_count": 42,
   "id": "1482c2b0",
   "metadata": {},
   "outputs": [],
   "source": [
    "# Q1- Read and explore the data"
   ]
  },
  {
   "cell_type": "code",
   "execution_count": 43,
   "id": "1aef01ca",
   "metadata": {},
   "outputs": [
    {
     "data": {
      "text/html": [
       "<div>\n",
       "<style scoped>\n",
       "    .dataframe tbody tr th:only-of-type {\n",
       "        vertical-align: middle;\n",
       "    }\n",
       "\n",
       "    .dataframe tbody tr th {\n",
       "        vertical-align: top;\n",
       "    }\n",
       "\n",
       "    .dataframe thead th {\n",
       "        text-align: right;\n",
       "    }\n",
       "</style>\n",
       "<table border=\"1\" class=\"dataframe\">\n",
       "  <thead>\n",
       "    <tr style=\"text-align: right;\">\n",
       "      <th></th>\n",
       "      <th>is_sarcastic</th>\n",
       "      <th>headline</th>\n",
       "      <th>article_link</th>\n",
       "    </tr>\n",
       "  </thead>\n",
       "  <tbody>\n",
       "    <tr>\n",
       "      <th>0</th>\n",
       "      <td>1</td>\n",
       "      <td>thirtysomething scientists unveil doomsday clo...</td>\n",
       "      <td>https://www.theonion.com/thirtysomething-scien...</td>\n",
       "    </tr>\n",
       "    <tr>\n",
       "      <th>1</th>\n",
       "      <td>0</td>\n",
       "      <td>dem rep. totally nails why congress is falling...</td>\n",
       "      <td>https://www.huffingtonpost.com/entry/donna-edw...</td>\n",
       "    </tr>\n",
       "    <tr>\n",
       "      <th>2</th>\n",
       "      <td>0</td>\n",
       "      <td>eat your veggies: 9 deliciously different recipes</td>\n",
       "      <td>https://www.huffingtonpost.com/entry/eat-your-...</td>\n",
       "    </tr>\n",
       "    <tr>\n",
       "      <th>3</th>\n",
       "      <td>1</td>\n",
       "      <td>inclement weather prevents liar from getting t...</td>\n",
       "      <td>https://local.theonion.com/inclement-weather-p...</td>\n",
       "    </tr>\n",
       "    <tr>\n",
       "      <th>4</th>\n",
       "      <td>1</td>\n",
       "      <td>mother comes pretty close to using word 'strea...</td>\n",
       "      <td>https://www.theonion.com/mother-comes-pretty-c...</td>\n",
       "    </tr>\n",
       "    <tr>\n",
       "      <th>...</th>\n",
       "      <td>...</td>\n",
       "      <td>...</td>\n",
       "      <td>...</td>\n",
       "    </tr>\n",
       "    <tr>\n",
       "      <th>28614</th>\n",
       "      <td>1</td>\n",
       "      <td>jews to celebrate rosh hashasha or something</td>\n",
       "      <td>https://www.theonion.com/jews-to-celebrate-ros...</td>\n",
       "    </tr>\n",
       "    <tr>\n",
       "      <th>28615</th>\n",
       "      <td>1</td>\n",
       "      <td>internal affairs investigator disappointed con...</td>\n",
       "      <td>https://local.theonion.com/internal-affairs-in...</td>\n",
       "    </tr>\n",
       "    <tr>\n",
       "      <th>28616</th>\n",
       "      <td>0</td>\n",
       "      <td>the most beautiful acceptance speech this week...</td>\n",
       "      <td>https://www.huffingtonpost.com/entry/andrew-ah...</td>\n",
       "    </tr>\n",
       "    <tr>\n",
       "      <th>28617</th>\n",
       "      <td>1</td>\n",
       "      <td>mars probe destroyed by orbiting spielberg-gat...</td>\n",
       "      <td>https://www.theonion.com/mars-probe-destroyed-...</td>\n",
       "    </tr>\n",
       "    <tr>\n",
       "      <th>28618</th>\n",
       "      <td>1</td>\n",
       "      <td>dad clarifies this not a food stop</td>\n",
       "      <td>https://www.theonion.com/dad-clarifies-this-no...</td>\n",
       "    </tr>\n",
       "  </tbody>\n",
       "</table>\n",
       "<p>28619 rows × 3 columns</p>\n",
       "</div>"
      ],
      "text/plain": [
       "       is_sarcastic                                           headline  \\\n",
       "0                 1  thirtysomething scientists unveil doomsday clo...   \n",
       "1                 0  dem rep. totally nails why congress is falling...   \n",
       "2                 0  eat your veggies: 9 deliciously different recipes   \n",
       "3                 1  inclement weather prevents liar from getting t...   \n",
       "4                 1  mother comes pretty close to using word 'strea...   \n",
       "...             ...                                                ...   \n",
       "28614             1       jews to celebrate rosh hashasha or something   \n",
       "28615             1  internal affairs investigator disappointed con...   \n",
       "28616             0  the most beautiful acceptance speech this week...   \n",
       "28617             1  mars probe destroyed by orbiting spielberg-gat...   \n",
       "28618             1                 dad clarifies this not a food stop   \n",
       "\n",
       "                                            article_link  \n",
       "0      https://www.theonion.com/thirtysomething-scien...  \n",
       "1      https://www.huffingtonpost.com/entry/donna-edw...  \n",
       "2      https://www.huffingtonpost.com/entry/eat-your-...  \n",
       "3      https://local.theonion.com/inclement-weather-p...  \n",
       "4      https://www.theonion.com/mother-comes-pretty-c...  \n",
       "...                                                  ...  \n",
       "28614  https://www.theonion.com/jews-to-celebrate-ros...  \n",
       "28615  https://local.theonion.com/internal-affairs-in...  \n",
       "28616  https://www.huffingtonpost.com/entry/andrew-ah...  \n",
       "28617  https://www.theonion.com/mars-probe-destroyed-...  \n",
       "28618  https://www.theonion.com/dad-clarifies-this-no...  \n",
       "\n",
       "[28619 rows x 3 columns]"
      ]
     },
     "execution_count": 43,
     "metadata": {},
     "output_type": "execute_result"
    }
   ],
   "source": [
    "path = \"Sarcasm_Headlines_Dataset.json\"\n",
    "data = pd.read_json(path, lines = True)\n",
    "data"
   ]
  },
  {
   "cell_type": "code",
   "execution_count": 44,
   "id": "4f4a0595",
   "metadata": {},
   "outputs": [],
   "source": [
    "# Exploring data"
   ]
  },
  {
   "cell_type": "code",
   "execution_count": 45,
   "id": "ddf7b2c6",
   "metadata": {},
   "outputs": [
    {
     "data": {
      "text/plain": [
       "(28619, 3)"
      ]
     },
     "execution_count": 45,
     "metadata": {},
     "output_type": "execute_result"
    }
   ],
   "source": [
    "data.shape"
   ]
  },
  {
   "cell_type": "code",
   "execution_count": 46,
   "id": "d0e49402",
   "metadata": {},
   "outputs": [
    {
     "name": "stdout",
     "output_type": "stream",
     "text": [
      "<class 'pandas.core.frame.DataFrame'>\n",
      "RangeIndex: 28619 entries, 0 to 28618\n",
      "Data columns (total 3 columns):\n",
      " #   Column        Non-Null Count  Dtype \n",
      "---  ------        --------------  ----- \n",
      " 0   is_sarcastic  28619 non-null  int64 \n",
      " 1   headline      28619 non-null  object\n",
      " 2   article_link  28619 non-null  object\n",
      "dtypes: int64(1), object(2)\n",
      "memory usage: 670.9+ KB\n"
     ]
    }
   ],
   "source": [
    "data.info()"
   ]
  },
  {
   "cell_type": "code",
   "execution_count": 47,
   "id": "de94f60b",
   "metadata": {},
   "outputs": [
    {
     "data": {
      "text/plain": [
       "0    14985\n",
       "1    13634\n",
       "Name: is_sarcastic, dtype: int64"
      ]
     },
     "execution_count": 47,
     "metadata": {},
     "output_type": "execute_result"
    }
   ],
   "source": [
    "data['is_sarcastic'].value_counts()"
   ]
  },
  {
   "cell_type": "code",
   "execution_count": 48,
   "id": "8b24f0ff",
   "metadata": {},
   "outputs": [
    {
     "data": {
      "text/plain": [
       "0    52.36032\n",
       "1    47.63968\n",
       "Name: is_sarcastic, dtype: float64"
      ]
     },
     "execution_count": 48,
     "metadata": {},
     "output_type": "execute_result"
    }
   ],
   "source": [
    "percentage = data['is_sarcastic'].value_counts(normalize=True) * 100\n",
    "percentage"
   ]
  },
  {
   "cell_type": "code",
   "execution_count": 49,
   "id": "47c755de",
   "metadata": {},
   "outputs": [],
   "source": [
    "# Visualizing the target column"
   ]
  },
  {
   "cell_type": "code",
   "execution_count": 50,
   "id": "ada16671",
   "metadata": {},
   "outputs": [
    {
     "data": {
      "image/png": "[encoded data removed]",
      "text/plain": [
       "<Figure size 640x480 with 1 Axes>"
      ]
     },
     "metadata": {},
     "output_type": "display_data"
    }
   ],
   "source": [
    "sns.countplot(x=data['is_sarcastic']);"
   ]
  },
  {
   "cell_type": "code",
   "execution_count": 51,
   "id": "599b1237",
   "metadata": {},
   "outputs": [],
   "source": [
    "labels = 'Sarcastic', 'Non-sarcastic'\n",
    "colors = ['red','green']\n",
    "sizes = percentage"
   ]
  },
  {
   "cell_type": "code",
   "execution_count": 52,
   "id": "ba67725f",
   "metadata": {},
   "outputs": [
    {
     "data": {
      "image/png": "[encoded data removed]",
      "text/plain": [
       "<Figure size 640x480 with 1 Axes>"
      ]
     },
     "metadata": {},
     "output_type": "display_data"
    }
   ],
   "source": [
    "plt.pie(sizes, labels=labels, colors = colors, autopct='%1.1f%%')\n",
    "plt.title('Percentage of sarcastic headlines')\n",
    "plt.show()"
   ]
  },
  {
   "cell_type": "code",
   "execution_count": 53,
   "id": "851941fe",
   "metadata": {},
   "outputs": [],
   "source": [
    "# Q2 - Retain relevant columns"
   ]
  },
  {
   "cell_type": "markdown",
   "id": "9d562919",
   "metadata": {},
   "source": [
    "Dropping article_link column :-"
   ]
  },
  {
   "cell_type": "code",
   "execution_count": 54,
   "id": "856e4ee2",
   "metadata": {},
   "outputs": [],
   "source": [
    "data.drop('article_link', axis = 1, inplace = True)"
   ]
  },
  {
   "cell_type": "code",
   "execution_count": 55,
   "id": "8e8afbf3",
   "metadata": {},
   "outputs": [
    {
     "data": {
      "text/html": [
       "<div>\n",
       "<style scoped>\n",
       "    .dataframe tbody tr th:only-of-type {\n",
       "        vertical-align: middle;\n",
       "    }\n",
       "\n",
       "    .dataframe tbody tr th {\n",
       "        vertical-align: top;\n",
       "    }\n",
       "\n",
       "    .dataframe thead th {\n",
       "        text-align: right;\n",
       "    }\n",
       "</style>\n",
       "<table border=\"1\" class=\"dataframe\">\n",
       "  <thead>\n",
       "    <tr style=\"text-align: right;\">\n",
       "      <th></th>\n",
       "      <th>is_sarcastic</th>\n",
       "      <th>headline</th>\n",
       "    </tr>\n",
       "  </thead>\n",
       "  <tbody>\n",
       "    <tr>\n",
       "      <th>0</th>\n",
       "      <td>1</td>\n",
       "      <td>thirtysomething scientists unveil doomsday clo...</td>\n",
       "    </tr>\n",
       "    <tr>\n",
       "      <th>1</th>\n",
       "      <td>0</td>\n",
       "      <td>dem rep. totally nails why congress is falling...</td>\n",
       "    </tr>\n",
       "    <tr>\n",
       "      <th>2</th>\n",
       "      <td>0</td>\n",
       "      <td>eat your veggies: 9 deliciously different recipes</td>\n",
       "    </tr>\n",
       "    <tr>\n",
       "      <th>3</th>\n",
       "      <td>1</td>\n",
       "      <td>inclement weather prevents liar from getting t...</td>\n",
       "    </tr>\n",
       "    <tr>\n",
       "      <th>4</th>\n",
       "      <td>1</td>\n",
       "      <td>mother comes pretty close to using word 'strea...</td>\n",
       "    </tr>\n",
       "  </tbody>\n",
       "</table>\n",
       "</div>"
      ],
      "text/plain": [
       "   is_sarcastic                                           headline\n",
       "0             1  thirtysomething scientists unveil doomsday clo...\n",
       "1             0  dem rep. totally nails why congress is falling...\n",
       "2             0  eat your veggies: 9 deliciously different recipes\n",
       "3             1  inclement weather prevents liar from getting t...\n",
       "4             1  mother comes pretty close to using word 'strea..."
      ]
     },
     "execution_count": 55,
     "metadata": {},
     "output_type": "execute_result"
    }
   ],
   "source": [
    "data.head()"
   ]
  },
  {
   "cell_type": "code",
   "execution_count": 56,
   "id": "3d560606",
   "metadata": {},
   "outputs": [],
   "source": [
    "original_data = data.copy()"
   ]
  },
  {
   "cell_type": "code",
   "execution_count": 57,
   "id": "06908cea",
   "metadata": {},
   "outputs": [],
   "source": [
    "# Checking random headlines to know length of each sentences and preprocessing steps to be done"
   ]
  },
  {
   "cell_type": "code",
   "execution_count": 58,
   "id": "997df9b6",
   "metadata": {},
   "outputs": [
    {
     "data": {
      "text/plain": [
       "'60 journalists killed in 2014 as targeting of international press rises'"
      ]
     },
     "execution_count": 58,
     "metadata": {},
     "output_type": "execute_result"
    }
   ],
   "source": [
    "data['headline'][20]"
   ]
  },
  {
   "cell_type": "code",
   "execution_count": 59,
   "id": "0b30d971",
   "metadata": {},
   "outputs": [
    {
     "data": {
      "text/plain": [
       "71"
      ]
     },
     "execution_count": 59,
     "metadata": {},
     "output_type": "execute_result"
    }
   ],
   "source": [
    "len(data['headline'][20])"
   ]
  },
  {
   "cell_type": "code",
   "execution_count": 60,
   "id": "4dbcb077",
   "metadata": {},
   "outputs": [
    {
     "data": {
      "text/plain": [
       "0"
      ]
     },
     "execution_count": 60,
     "metadata": {},
     "output_type": "execute_result"
    }
   ],
   "source": [
    "data['is_sarcastic'][20]"
   ]
  },
  {
   "cell_type": "code",
   "execution_count": 61,
   "id": "ca5078e8",
   "metadata": {},
   "outputs": [
    {
     "data": {
      "text/plain": [
       "'brutalist beaver constructs paul rudolph-inspired dam'"
      ]
     },
     "execution_count": 61,
     "metadata": {},
     "output_type": "execute_result"
    }
   ],
   "source": [
    "data['headline'][55]"
   ]
  },
  {
   "cell_type": "code",
   "execution_count": 62,
   "id": "20ff5ee7",
   "metadata": {},
   "outputs": [
    {
     "data": {
      "text/plain": [
       "53"
      ]
     },
     "execution_count": 62,
     "metadata": {},
     "output_type": "execute_result"
    }
   ],
   "source": [
    "len(data['headline'][55])"
   ]
  },
  {
   "cell_type": "markdown",
   "id": "c2f3596e",
   "metadata": {},
   "source": [
    "Different sentences have different lengths"
   ]
  },
  {
   "cell_type": "markdown",
   "id": "821d2d93",
   "metadata": {},
   "source": [
    "As we could not check each and every sentence in headline, we apply some preprocessing steps before we built a model on raw data."
   ]
  },
  {
   "cell_type": "code",
   "execution_count": 63,
   "id": "c6c01be1",
   "metadata": {},
   "outputs": [],
   "source": [
    "# Converting to lowercase :-\n",
    "data['cleaned_headline'] = data['headline'].apply(lambda x : x.lower())"
   ]
  },
  {
   "cell_type": "code",
   "execution_count": 64,
   "id": "fe712292",
   "metadata": {},
   "outputs": [],
   "source": [
    "# To remove punctuations and extra spaces\n",
    "def preprocess_text(headline):\n",
    "    cleaned_headline = re.sub(r'[^\\w\\s]', '', headline) \n",
    "    cleaned_headline = re.sub(r'\\s+', ' ', cleaned_headline)  \n",
    "    return cleaned_headline"
   ]
  },
  {
   "cell_type": "code",
   "execution_count": 65,
   "id": "3f6d0170",
   "metadata": {},
   "outputs": [],
   "source": [
    "data['cleaned_headline'] = data['headline'].apply(lambda x: preprocess_text(x))"
   ]
  },
  {
   "cell_type": "code",
   "execution_count": 66,
   "id": "57a03a66",
   "metadata": {},
   "outputs": [
    {
     "name": "stdout",
     "output_type": "stream",
     "text": [
      "0        thirtysomething scientists unveil doomsday clo...\n",
      "1        dem rep totally nails why congress is falling ...\n",
      "2         eat your veggies 9 deliciously different recipes\n",
      "3        inclement weather prevents liar from getting t...\n",
      "4        mother comes pretty close to using word stream...\n",
      "                               ...                        \n",
      "28614         jews to celebrate rosh hashasha or something\n",
      "28615    internal affairs investigator disappointed con...\n",
      "28616    the most beautiful acceptance speech this week...\n",
      "28617    mars probe destroyed by orbiting spielberggate...\n",
      "28618                   dad clarifies this not a food stop\n",
      "Name: cleaned_headline, Length: 28619, dtype: object\n"
     ]
    }
   ],
   "source": [
    "print(data['cleaned_headline'])"
   ]
  },
  {
   "cell_type": "code",
   "execution_count": 67,
   "id": "765e77e6",
   "metadata": {},
   "outputs": [],
   "source": [
    "# Q3 - Get length of each sentence"
   ]
  },
  {
   "cell_type": "code",
   "execution_count": 68,
   "id": "2c87e7cf",
   "metadata": {},
   "outputs": [],
   "source": [
    "def get_sentence_lengths(data):\n",
    "    sentences = nltk.sent_tokenize(data)\n",
    "    lengths = [len(sentence.split()) for sentence in sentences]\n",
    "    return lengths"
   ]
  },
  {
   "cell_type": "code",
   "execution_count": 69,
   "id": "7354785c",
   "metadata": {},
   "outputs": [],
   "source": [
    "lengths = get_sentence_lengths(data['headline'][2])"
   ]
  },
  {
   "cell_type": "code",
   "execution_count": 70,
   "id": "cd25e1a0",
   "metadata": {},
   "outputs": [
    {
     "data": {
      "text/plain": [
       "[7]"
      ]
     },
     "execution_count": 70,
     "metadata": {},
     "output_type": "execute_result"
    }
   ],
   "source": [
    "lengths"
   ]
  },
  {
   "cell_type": "code",
   "execution_count": 71,
   "id": "218a7435",
   "metadata": {},
   "outputs": [],
   "source": [
    "data['line_length'] = data['cleaned_headline'].str.len()"
   ]
  },
  {
   "cell_type": "code",
   "execution_count": 72,
   "id": "220008d3",
   "metadata": {},
   "outputs": [
    {
     "data": {
      "text/plain": [
       "0        61\n",
       "1        77\n",
       "2        48\n",
       "3        52\n",
       "4        59\n",
       "         ..\n",
       "28614    44\n",
       "28615    86\n",
       "28616    71\n",
       "28617    60\n",
       "28618    34\n",
       "Name: line_length, Length: 28619, dtype: int64"
      ]
     },
     "execution_count": 72,
     "metadata": {},
     "output_type": "execute_result"
    }
   ],
   "source": [
    "data['line_length']"
   ]
  },
  {
   "cell_type": "code",
   "execution_count": 73,
   "id": "0d3c6346",
   "metadata": {},
   "outputs": [],
   "source": [
    "# Q4 - Define parameters"
   ]
  },
  {
   "cell_type": "markdown",
   "id": "8014873c",
   "metadata": {},
   "source": [
    "Variables that are used to define and control the behavior of model.\n",
    "\n",
    "Learned during training process.\n",
    "\n",
    "It has a range of values and are adjusted."
   ]
  },
  {
   "cell_type": "markdown",
   "id": "45ccab97",
   "metadata": {},
   "source": [
    "max_features: Number of words to take from tokenizer\n",
    "\n",
    "maxlen: Maximum length of each sentence\n",
    "\n",
    "embedding_size: Size of embedding vector"
   ]
  },
  {
   "cell_type": "code",
   "execution_count": 74,
   "id": "341714ad",
   "metadata": {},
   "outputs": [],
   "source": [
    "data['max_length'] = data['cleaned_headline'].apply(lambda x: len(x.split(' ')))"
   ]
  },
  {
   "cell_type": "code",
   "execution_count": 75,
   "id": "0179616e",
   "metadata": {},
   "outputs": [],
   "source": [
    "max_features = 10000\n",
    "maxlen = data['max_length'].max()\n",
    "embedding_size = 50"
   ]
  },
  {
   "cell_type": "code",
   "execution_count": 76,
   "id": "4209e750",
   "metadata": {},
   "outputs": [],
   "source": [
    "# Q5 - Get indices for words"
   ]
  },
  {
   "cell_type": "markdown",
   "id": "f69e79b1",
   "metadata": {},
   "source": [
    "Getting indices using tokenizer :- "
   ]
  },
  {
   "cell_type": "code",
   "execution_count": 77,
   "id": "4b4ea63e",
   "metadata": {},
   "outputs": [],
   "source": [
    "tokenizer = Tokenizer(num_words = max_features)"
   ]
  },
  {
   "cell_type": "code",
   "execution_count": 78,
   "id": "76ec0d2c",
   "metadata": {},
   "outputs": [],
   "source": [
    "tokenizer.fit_on_texts(list(data['cleaned_headline']))"
   ]
  },
  {
   "cell_type": "code",
   "execution_count": 79,
   "id": "0970c0e7",
   "metadata": {},
   "outputs": [],
   "source": [
    "# Q6 - Create features and labels"
   ]
  },
  {
   "cell_type": "code",
   "execution_count": 80,
   "id": "39405681",
   "metadata": {},
   "outputs": [],
   "source": [
    "# Features \n",
    "X = tokenizer.texts_to_sequences(data['cleaned_headline'])"
   ]
  },
  {
   "cell_type": "code",
   "execution_count": 81,
   "id": "c81fa1ce",
   "metadata": {},
   "outputs": [],
   "source": [
    "# Labels\n",
    "y = np.asarray(data['is_sarcastic'])"
   ]
  },
  {
   "cell_type": "markdown",
   "id": "8ef2a426",
   "metadata": {},
   "source": [
    "In order to fit these features into model all sentences are made to same or equal in length by padding sequence"
   ]
  },
  {
   "cell_type": "code",
   "execution_count": 82,
   "id": "ae3b3c9c",
   "metadata": {},
   "outputs": [],
   "source": [
    "X = pad_sequences(X, maxlen = maxlen)"
   ]
  },
  {
   "cell_type": "code",
   "execution_count": 83,
   "id": "af283660",
   "metadata": {},
   "outputs": [],
   "source": [
    "# Splitting data :-\n",
    "x_train, x_test, y_train, y_test = train_test_split(X, y, test_size = 0.2, random_state = 42, shuffle = True)"
   ]
  },
  {
   "cell_type": "code",
   "execution_count": 84,
   "id": "cee109a0",
   "metadata": {},
   "outputs": [],
   "source": [
    "# Q7 - Get vocabulary size"
   ]
  },
  {
   "cell_type": "code",
   "execution_count": 85,
   "id": "740bdb47",
   "metadata": {},
   "outputs": [],
   "source": [
    "word_to_index = tokenizer.word_index\n",
    "vocabulary_size = len(word_to_index)+1"
   ]
  },
  {
   "cell_type": "code",
   "execution_count": 86,
   "id": "d9e029e4",
   "metadata": {},
   "outputs": [
    {
     "data": {
      "text/plain": [
       "29640"
      ]
     },
     "execution_count": 86,
     "metadata": {},
     "output_type": "execute_result"
    }
   ],
   "source": [
    "vocabulary_size"
   ]
  },
  {
   "cell_type": "code",
   "execution_count": 87,
   "id": "c4f4c483",
   "metadata": {},
   "outputs": [],
   "source": [
    "# Q8 - Create a weight matrix using GloVe embeddings"
   ]
  },
  {
   "cell_type": "code",
   "execution_count": 88,
   "id": "e4fd1f76",
   "metadata": {},
   "outputs": [],
   "source": [
    "embeddings_dict = {}\n",
    "with open(r\"glove.6B.50d.txt\", encoding = \"utf8\") as f:\n",
    "    for line in f:\n",
    "        values = line.split()\n",
    "        word = values[0]\n",
    "        vector = np.asarray(values[1:], \"float32\")\n",
    "        embeddings_dict[word] = vector"
   ]
  },
  {
   "cell_type": "code",
   "execution_count": 89,
   "id": "4d61f366",
   "metadata": {},
   "outputs": [],
   "source": [
    "# Create a weight matrix\n",
    "weight_matrix = np.zeros((vocabulary_size, embedding_size))\n",
    "for word, index in word_to_index.items():\n",
    "    embedding_vector = embeddings_dict.get(word)\n",
    "    weight_matrix[index] = embedding_vector"
   ]
  },
  {
   "cell_type": "code",
   "execution_count": 90,
   "id": "0346235a",
   "metadata": {},
   "outputs": [
    {
     "data": {
      "text/plain": [
       "400000"
      ]
     },
     "execution_count": 90,
     "metadata": {},
     "output_type": "execute_result"
    }
   ],
   "source": [
    "len(embeddings_dict.values())"
   ]
  },
  {
   "cell_type": "code",
   "execution_count": 91,
   "id": "2cbd6319",
   "metadata": {},
   "outputs": [],
   "source": [
    "# Q9 - Define and compile a Bidirectional LSTM model"
   ]
  },
  {
   "cell_type": "markdown",
   "id": "6db4b758",
   "metadata": {},
   "source": [
    "A recurrent neural network in which 2 LSTM are present. \n",
    "\n",
    "There is no backward propogation, only input can flow in both directions(right to left and left to right)\n",
    "\n",
    "Advantage :- Can effectively increase amount of information available to the network, improving the context available to the algorithm."
   ]
  },
  {
   "cell_type": "code",
   "execution_count": 92,
   "id": "0f7c67ef",
   "metadata": {},
   "outputs": [],
   "source": [
    "num_words = min(max_features, vocabulary_size) + 1"
   ]
  },
  {
   "cell_type": "code",
   "execution_count": 93,
   "id": "546247de",
   "metadata": {},
   "outputs": [],
   "source": [
    "model = Sequential()\n",
    "model.add(Embedding(vocabulary_size, embedding_size, input_length=maxlen))\n",
    "model.add(Bidirectional(LSTM(128, return_sequences = True)))\n",
    "model.add(GlobalMaxPool1D())\n",
    "model.add(Dropout(0.2))\n",
    "model.add(Dense(1, activation='sigmoid'))\n",
    "model.compile(loss='binary_crossentropy', optimizer='adam', metrics=['accuracy'])"
   ]
  },
  {
   "cell_type": "code",
   "execution_count": 94,
   "id": "6b537b8c",
   "metadata": {},
   "outputs": [],
   "source": [
    "model.compile(loss = 'binary_crossentropy', optimizer = 'adam', metrics = ['accuracy'])"
   ]
  },
  {
   "cell_type": "code",
   "execution_count": 95,
   "id": "e7c9e681",
   "metadata": {},
   "outputs": [],
   "source": [
    "checkpoint = ModelCheckpoint(\"model_weights.h5\",monitor='val_accuracy',\n",
    "                            save_weights_only=True, model='max',verbose=1)\n",
    "reduce_lr = ReduceLROnPlateau(monitor='val_loss',factor=0.1,patience=2,min_lr=0.00001,model='auto')\n",
    "\n",
    "callbacks = [checkpoint,reduce_lr]"
   ]
  },
  {
   "cell_type": "code",
   "execution_count": 96,
   "id": "aeccd50a",
   "metadata": {},
   "outputs": [
    {
     "name": "stdout",
     "output_type": "stream",
     "text": [
      "Model: \"sequential_1\"\n",
      "_________________________________________________________________\n",
      " Layer (type)                Output Shape              Param #   \n",
      "=================================================================\n",
      " embedding_1 (Embedding)     (None, 151, 50)           1482000   \n",
      "                                                                 \n",
      " bidirectional (Bidirectiona  (None, 151, 256)         183296    \n",
      " l)                                                              \n",
      "                                                                 \n",
      " global_max_pooling1d (Globa  (None, 256)              0         \n",
      " lMaxPooling1D)                                                  \n",
      "                                                                 \n",
      " dropout (Dropout)           (None, 256)               0         \n",
      "                                                                 \n",
      " dense_1 (Dense)             (None, 1)                 257       \n",
      "                                                                 \n",
      "=================================================================\n",
      "Total params: 1,665,553\n",
      "Trainable params: 1,665,553\n",
      "Non-trainable params: 0\n",
      "_________________________________________________________________\n",
      "None\n"
     ]
    }
   ],
   "source": [
    "print(model.summary())"
   ]
  },
  {
   "cell_type": "code",
   "execution_count": 97,
   "id": "10f0d370",
   "metadata": {},
   "outputs": [],
   "source": [
    "batch_size = 100\n",
    "epochs = 5"
   ]
  },
  {
   "cell_type": "code",
   "execution_count": 98,
   "id": "b0a901c1",
   "metadata": {},
   "outputs": [],
   "source": [
    "# Splitting data :-\n",
    "x_train, x_test, y_train, y_test = train_test_split(X, y, test_size = 0.2, random_state = 42, shuffle = True)"
   ]
  },
  {
   "cell_type": "code",
   "execution_count": 99,
   "id": "515a4258",
   "metadata": {},
   "outputs": [],
   "source": [
    "# Q10 - Fit the model and check the validation accuracy"
   ]
  },
  {
   "cell_type": "code",
   "execution_count": 100,
   "id": "0507a75a",
   "metadata": {},
   "outputs": [
    {
     "name": "stdout",
     "output_type": "stream",
     "text": [
      "Epoch 1/5\n",
      "\n",
      "Epoch 1: saving model to model_weights.h5\n",
      "184/184 - 103s - loss: 0.4888 - accuracy: 0.7557 - val_loss: 0.3574 - val_accuracy: 0.8524 - lr: 0.0010 - 103s/epoch - 561ms/step\n",
      "Epoch 2/5\n",
      "\n",
      "Epoch 2: saving model to model_weights.h5\n",
      "184/184 - 111s - loss: 0.2575 - accuracy: 0.8975 - val_loss: 0.3624 - val_accuracy: 0.8439 - lr: 0.0010 - 111s/epoch - 602ms/step\n",
      "Epoch 3/5\n",
      "\n",
      "Epoch 3: saving model to model_weights.h5\n",
      "184/184 - 110s - loss: 0.1776 - accuracy: 0.9305 - val_loss: 0.3874 - val_accuracy: 0.8410 - lr: 0.0010 - 110s/epoch - 600ms/step\n",
      "Epoch 4/5\n",
      "\n",
      "Epoch 4: saving model to model_weights.h5\n",
      "184/184 - 114s - loss: 0.1113 - accuracy: 0.9634 - val_loss: 0.4433 - val_accuracy: 0.8417 - lr: 1.0000e-04 - 114s/epoch - 622ms/step\n",
      "Epoch 5/5\n",
      "\n",
      "Epoch 5: saving model to model_weights.h5\n",
      "184/184 - 112s - loss: 0.0999 - accuracy: 0.9644 - val_loss: 0.4674 - val_accuracy: 0.8412 - lr: 1.0000e-04 - 112s/epoch - 606ms/step\n"
     ]
    }
   ],
   "source": [
    "history = model.fit(x_train, y_train, epochs = epochs, validation_split = 0.2, batch_size = batch_size, callbacks = callbacks, verbose = 2)"
   ]
  },
  {
   "cell_type": "code",
   "execution_count": 101,
   "id": "fde21978",
   "metadata": {},
   "outputs": [
    {
     "name": "stdout",
     "output_type": "stream",
     "text": [
      "Validation accuracy :-\n"
     ]
    },
    {
     "data": {
      "text/plain": [
       "[0.852369487285614,\n",
       " 0.8438523411750793,\n",
       " 0.8410133123397827,\n",
       " 0.8416684865951538,\n",
       " 0.8412317037582397]"
      ]
     },
     "execution_count": 101,
     "metadata": {},
     "output_type": "execute_result"
    }
   ],
   "source": [
    "print(\"Validation accuracy :-\")\n",
    "history.history['val_accuracy']"
   ]
  },
  {
   "cell_type": "code",
   "execution_count": 102,
   "id": "61e9fa8f",
   "metadata": {},
   "outputs": [
    {
     "data": {
      "image/png": "[encoded data removed]",
      "text/plain": [
       "<Figure size 640x480 with 1 Axes>"
      ]
     },
     "metadata": {},
     "output_type": "display_data"
    }
   ],
   "source": [
    "plt.plot(history.history['accuracy'])\n",
    "plt.plot(history.history['val_accuracy'])\n",
    "plt.title('validation accuracy')\n",
    "plt.ylabel('accuracy')\n",
    "plt.xlabel('epoch')\n",
    "plt.legend(['training', 'validation'], loc='best')\n",
    "plt.show()"
   ]
  }
 ],
 "metadata": {
  "kernelspec": {
   "display_name": "Python 3 (ipykernel)",
   "language": "python",
   "name": "python3"
  },
  "language_info": {
   "codemirror_mode": {
    "name": "ipython",
    "version": 3
   },
   "file_extension": ".py",
   "mimetype": "text/x-python",
   "name": "python",
   "nbconvert_exporter": "python",
   "pygments_lexer": "ipython3",
   "version": "3.9.16"
  }
 },
 "nbformat": 4,
 "nbformat_minor": 5
}
